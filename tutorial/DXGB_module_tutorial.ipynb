{
 "cells": [
  {
   "cell_type": "markdown",
   "metadata": {},
   "source": [
    "**This is a basic tutorial for using DXGB as module**"
   ]
  },
  {
   "cell_type": "code",
   "execution_count": 1,
   "metadata": {
    "ExecuteTime": {
     "end_time": "2019-12-06T04:23:22.861973Z",
     "start_time": "2019-12-06T04:23:21.899297Z"
    }
   },
   "outputs": [],
   "source": [
    "import os\n",
    "import pandas as pd\n",
    "import DXGB\n",
    "from DXGB.get_DXGB import get_DXGB"
   ]
  },
  {
   "cell_type": "markdown",
   "metadata": {},
   "source": [
    "**get_DXGB** is the major function for DXGB, and it provides many options as shown following:"
   ]
  },
  {
   "cell_type": "code",
   "execution_count": 2,
   "metadata": {
    "ExecuteTime": {
     "end_time": "2019-12-06T04:23:24.197330Z",
     "start_time": "2019-12-06T04:23:24.193146Z"
    }
   },
   "outputs": [
    {
     "name": "stdout",
     "output_type": "stream",
     "text": [
      "Help on function get_DXGB in module DXGB.get_DXGB:\n",
      "\n",
      "get_DXGB(model, modeldir, datadir, pdbid, outfile, runfeatures, water, opt, rewrite, average=True, modelidx='1', featuretype='all', runrf=False, runscore=True)\n",
      "    Get deltaVinaXGB all features and score\n",
      "    \n",
      "    Parameters\n",
      "    ----------\n",
      "    model : str\n",
      "        model type, \"DXGB\" is the one for our previous trained deltaVinaXGB.\n",
      "    modeldir : str\n",
      "        directory for models, the previous trained models should be in the modeldir/model.\n",
      "    datadir : str\n",
      "        directory for data(input structures or features), and all output files.\n",
      "    pdbid : str\n",
      "        unique index for input data, can be pdb id, or any other customrized index.\n",
      "    outfile : str\n",
      "        output score file name (format is csv)\n",
      "    runfeatures : bool\n",
      "        whether to calculate features.\n",
      "    water : str\n",
      "        water type, can be:\n",
      "        \"rbw\" --> all types of water, \n",
      "        \"rw\" --> only receptor water, \n",
      "        \"bw\" --> only bridging water,\n",
      "        False --> no water.\n",
      "    opt : str\n",
      "        optimization type, can be:\n",
      "        \"rbwo\" --> all types of optimization, \n",
      "        \"rwo\" --> only optimizaion with receptor water,\n",
      "        \"bwo\" --> only optimization with bridging water, \n",
      "        \"o\" --> optimization with no water,\n",
      "        False --> no optimization.\n",
      "    rewrite : bool\n",
      "        whether to rewrite protein with water stucture, optimized ligand structure, ligand conformation generation results.\n",
      "    average : bool\n",
      "        whether to use ensemble model results, defaults to True.\n",
      "    modelidx : str\n",
      "        requires when average=False, used to define which model will be used to predict score, defaults to \"1\".\n",
      "    featuretype : str\n",
      "        requires when runfeatures=True, used to define which features will be calculated, defaults to \"all\", can be:\n",
      "        \"all\" --> calculate all features,\n",
      "        \"Vina\" --> calculate Vina58, \n",
      "        \"SASA\" --> calculate SASA, \n",
      "        \"BW\" --> calculate bridging water features, \n",
      "        \"Ion\" --> calculate ion features, \n",
      "        \"dE\" --> calculate ligand stability features.\n",
      "    runrf : bool\n",
      "        whether to calculate deltaVinaRF score, defaults to False.\n",
      "    runscore:bool\n",
      "        whether to calculate score, defaults to True. If False and runfeatures=True, only performes feature calculation.\n",
      "        \n",
      "    Return\n",
      "    ----------\n",
      "    output score will be saved in outfile, together with all other calculated features will be saved in datadir\n",
      "\n"
     ]
    }
   ],
   "source": [
    "help(get_DXGB)"
   ]
  },
  {
   "cell_type": "markdown",
   "metadata": {},
   "source": [
    "Here, we show some examples predicting scores and calculating features"
   ]
  },
  {
   "cell_type": "markdown",
   "metadata": {},
   "source": [
    "### Calculate Scores"
   ]
  },
  {
   "cell_type": "markdown",
   "metadata": {},
   "source": [
    "#### Only structures provided "
   ]
  },
  {
   "cell_type": "markdown",
   "metadata": {},
   "source": [
    "When only strutcures are provided, we need to conduct feature calculation fisrt, and predict scores based on that"
   ]
  },
  {
   "cell_type": "markdown",
   "metadata": {},
   "source": [
    "Our model has been saved in *modeldir/model/*. <br>\n",
    "If you have other trained model, you can also save it in *modeldir/youmodeltag*, and use that model to predict score. In that case, make sure your Input.csv (or Input_min/min_RW/min_BW.csv) has right features in right order"
   ]
  },
  {
   "cell_type": "code",
   "execution_count": 3,
   "metadata": {
    "ExecuteTime": {
     "end_time": "2019-12-06T04:23:27.318819Z",
     "start_time": "2019-12-06T04:23:27.314886Z"
    }
   },
   "outputs": [],
   "source": [
    "model = \"DXGB\" ### tag for our deltaVinaXGB model\n",
    "modeldir = \"/Users/jianinglu1/Documents/deltaVinaXGB/model\" ### absolute model dir \n",
    "datadir = \"/Users/jianinglu1/Documents/deltaVinaXGB/Test_2al5\" ### data dir\n",
    "pdbid = \"2al5\" ### input index, can be other type\n",
    "outfile = \"score.csv\" ### output file name\n",
    "runfeatures = True ### we want to calculate features\n",
    "water = \"rbw\" ### consider both receptor water and bridging water \n",
    "opt = \"rbwo\" ### optimize structures in all situations\n",
    "rewrite = False ### we don't want overwrite previous generated structures and conformations\n",
    "average = True ### we use ensemble models (10 models)\n",
    "featuretype = \"all\" ### since we don't have any features, we want to calculate all features\n",
    "runrf = True ### except Vina and deltaVinaXGB, we also want to calcualate deltaVinaRF\n",
    "runscore = True ### we want to calculate scores"
   ]
  },
  {
   "cell_type": "code",
   "execution_count": 4,
   "metadata": {
    "ExecuteTime": {
     "end_time": "2019-12-06T04:28:19.401532Z",
     "start_time": "2019-12-06T04:23:28.124409Z"
    }
   },
   "outputs": [
    {
     "name": "stdout",
     "output_type": "stream",
     "text": [
      "pdb index: 2al5\n",
      "file directory: /Users/jianinglu1/Documents/deltaVinaXGB/Test_2al5\n",
      "feature will be calculated:all\n",
      "Ligand for conformation stability:2al5_ligand.mol2\n",
      "Ligand for Vina, SASA, BA, ION:2al5_ligand_rename.pdb\n",
      "Protein without water molecules:2al5_protein.pdb\n",
      "Protein with water molecules:2al5_protein_all.pdb\n",
      "Finish Input Preparation\n",
      "Protein Water: calculate both RW and BW\n",
      "RW satisfies distance requirement:572\n",
      "563 RW have been saved in 2al5_protein_RW.pdb\n",
      "BW satisfies structural requirement:3\n",
      "3 BW have been saved in 2al5_protein_BW.pdb\n",
      "Finish generate BW\n",
      "Consideration of Water Effect\n",
      "Finish Optimization\n",
      "C\n",
      "Finish Vina, save in Vina58.csv\n",
      "Finish SASA, save in SASA.csv\n",
      "No Ion\n",
      "Finish Ion, save in Num_Ions.csv\n",
      "Co\n",
      "Finish Vina, save in Vina58_min.csv\n",
      "Finish SASA, save in SASA_min.csv\n",
      "No Ion\n",
      "Finish Ion, save in Num_Ions_min.csv\n",
      "Crwo\n",
      "BW satisfies structural requirement:3\n",
      "Finish Bridging Water feature calculation, save in Feature_BW_min_RW.csv\n",
      "Finish Vina, save in Vina58_min_RW.csv\n",
      "Finish SASA, save in SASA_min_RW.csv\n",
      "No Ion\n",
      "Finish Ion, save in Num_Ions_min_RW.csv\n",
      "Cbwo\n",
      "BW satisfies structural requirement:3\n",
      "Finish Bridging Water feature calculation, save in Feature_BW_min_BW.csv\n",
      "Finish Vina, save in Vina58_min_BW.csv\n",
      "Finish SASA, save in SASA_min_BW.csv\n",
      "No Ion\n",
      "Finish Ion, save in Num_Ions_min_BW.csv\n",
      "Input Type:mol2\n",
      "mol has been read\n",
      "The total number of conformers before clustering: 52\n",
      "The total number of conformers after clustring: 12\n",
      "The lowest energy: 26.256817338203216\n",
      "Input Type:mol2\n",
      "Finish ligand stability calculation, save in dE_RMSD.csv\n",
      "Features has been saved in Input.csv\n",
      "Features has been saved in Input_min.csv\n",
      "Features has been saved in Input_min_RW.csv\n",
      "Features has been saved in Input_min_BW.csv\n",
      "Finish Feature Calculation\n",
      "output score file: score.csv\n",
      "1\n",
      "2\n",
      "3\n",
      "4\n",
      "5\n",
      "6\n",
      "7\n",
      "8\n",
      "9\n",
      "10\n"
     ]
    },
    {
     "name": "stderr",
     "output_type": "stream",
     "text": [
      "/Users/jianinglu1/anaconda3/envs/DXGB/lib/python3.7/site-packages/pandas/core/frame.py:3494: SettingWithCopyWarning: \n",
      "A value is trying to be set on a copy of a slice from a DataFrame.\n",
      "Try using .loc[row_indexer,col_indexer] = value instead\n",
      "\n",
      "See the caveats in the documentation: http://pandas.pydata.org/pandas-docs/stable/user_guide/indexing.html#returning-a-view-versus-a-copy\n",
      "  self[k1] = value[k2]\n"
     ]
    },
    {
     "name": "stdout",
     "output_type": "stream",
     "text": [
      "1\n",
      "2\n",
      "3\n",
      "4\n",
      "5\n",
      "6\n",
      "7\n",
      "8\n",
      "9\n",
      "10\n",
      "1\n",
      "2\n",
      "3\n",
      "4\n",
      "5\n",
      "6\n",
      "7\n",
      "8\n",
      "9\n",
      "10\n",
      "1\n",
      "2\n",
      "3\n",
      "4\n",
      "5\n",
      "6\n",
      "7\n",
      "8\n",
      "9\n",
      "10\n"
     ]
    }
   ],
   "source": [
    "cwd = os.getcwd() ### our feature calculate will be conducted in datadir, it should be safe to go back after predict scores\n",
    "get_DXGB(model, modeldir, datadir, pdbid, outfile, runfeatures, water, opt, rewrite, average=average, featuretype=featuretype, runrf=runrf, runscore=runscore)\n",
    "os.chdir(cwd)"
   ]
  },
  {
   "cell_type": "markdown",
   "metadata": {},
   "source": [
    "Two slowest steps in score calculation is **receptor water structure prepartion** and **ligand conformation generation**. It might take some time to finish. However, for same protein, receptor water molecules are only needed to be generated once, and similarly, for same ligand (different docking poses), the ligand conformation generation is only needed to be conducted onece.<br> You can directly copy and past previous generated structures, and use **rewrite=False** to omit above structure generation process in the score prediction. <br>\n",
    "<br>\n",
    "**Note**: \n",
    "1. When you rerun this for same data, all the feature files will be rewrote, which is can't be changed.\n",
    "2. Sometimes, when the initial ligand (mol2 or sdf) can't be read into RDkit because of structure problem, we will omit the ligand stability calculation. In this situation, you should provide a pdb file for ligand to enable other feature calculation and score prediction.\n"
   ]
  },
  {
   "cell_type": "code",
   "execution_count": 5,
   "metadata": {
    "ExecuteTime": {
     "end_time": "2019-12-06T04:29:10.176069Z",
     "start_time": "2019-12-06T04:29:10.156815Z"
    }
   },
   "outputs": [
    {
     "data": {
      "text/html": [
       "<div>\n",
       "<style scoped>\n",
       "    .dataframe tbody tr th:only-of-type {\n",
       "        vertical-align: middle;\n",
       "    }\n",
       "\n",
       "    .dataframe tbody tr th {\n",
       "        vertical-align: top;\n",
       "    }\n",
       "\n",
       "    .dataframe thead th {\n",
       "        text-align: right;\n",
       "    }\n",
       "</style>\n",
       "<table border=\"1\" class=\"dataframe\">\n",
       "  <thead>\n",
       "    <tr style=\"text-align: right;\">\n",
       "      <th></th>\n",
       "      <th>pdb</th>\n",
       "      <th>vina</th>\n",
       "      <th>XGB</th>\n",
       "      <th>RF20</th>\n",
       "      <th>vina_min</th>\n",
       "      <th>XGB_min</th>\n",
       "      <th>RF20_min</th>\n",
       "      <th>vina_min_RW</th>\n",
       "      <th>XGB_min_RW</th>\n",
       "      <th>RF20_min_RW</th>\n",
       "      <th>vina_min_BW</th>\n",
       "      <th>XGB_min_BW</th>\n",
       "      <th>RF20_min_BW</th>\n",
       "    </tr>\n",
       "  </thead>\n",
       "  <tbody>\n",
       "    <tr>\n",
       "      <td>0</td>\n",
       "      <td>2al5</td>\n",
       "      <td>6.26831</td>\n",
       "      <td>6.611149</td>\n",
       "      <td>7.3313</td>\n",
       "      <td>6.410879</td>\n",
       "      <td>6.807068</td>\n",
       "      <td>7.450087</td>\n",
       "      <td>7.156691</td>\n",
       "      <td>7.112672</td>\n",
       "      <td>8.455182</td>\n",
       "      <td>6.896757</td>\n",
       "      <td>6.7354</td>\n",
       "      <td>8.129866</td>\n",
       "    </tr>\n",
       "  </tbody>\n",
       "</table>\n",
       "</div>"
      ],
      "text/plain": [
       "    pdb     vina       XGB    RF20  vina_min   XGB_min  RF20_min  vina_min_RW  \\\n",
       "0  2al5  6.26831  6.611149  7.3313  6.410879  6.807068  7.450087     7.156691   \n",
       "\n",
       "   XGB_min_RW  RF20_min_RW  vina_min_BW  XGB_min_BW  RF20_min_BW  \n",
       "0    7.112672     8.455182     6.896757      6.7354     8.129866  "
      ]
     },
     "execution_count": 5,
     "metadata": {},
     "output_type": "execute_result"
    }
   ],
   "source": [
    "### Take a look at score file \n",
    "score = pd.read_csv(\"../Test_2al5/score.csv\")\n",
    "score"
   ]
  },
  {
   "cell_type": "markdown",
   "metadata": {},
   "source": [
    "#### Only input feature file provided"
   ]
  },
  {
   "cell_type": "markdown",
   "metadata": {},
   "source": [
    "When only input feature file is provided, we don't need to calculate features, we can directly predict scores.<br>\n",
    "The input file with features, should be named as Input.csv"
   ]
  },
  {
   "cell_type": "code",
   "execution_count": 6,
   "metadata": {
    "ExecuteTime": {
     "end_time": "2019-12-06T04:29:25.684053Z",
     "start_time": "2019-12-06T04:29:25.680372Z"
    }
   },
   "outputs": [],
   "source": [
    "model = \"DXGB\" ### tag for our deltaVinaXGB model\n",
    "modeldir = \"/Users/jianinglu1/Documents/deltaVinaXGB/model\" ### absolute model dir \n",
    "datadir = \"/Users/jianinglu1/Documents/deltaVinaXGB/Test\" ### data dir\n",
    "pdbid = None ### don't need any more, the column name should be same as Input.csv generated using our script\n",
    "outfile = \"score.csv\" ### output file name\n",
    "runfeatures = False ### we don't want to calculate features any more\n",
    "water = False ### no structures have been provided\n",
    "opt = False ### no structures have been provided \n",
    "rewrite = False ### no structures have been provided\n",
    "average = True ### we use ensemble models (10 models)\n",
    "featuretype = \"all\" ### doesn't matter\n",
    "runrf = True ### except Vina and deltaVinaXGB, we also want to calcualate deltaVinaRF\n",
    "runscore = True ### we want to calculate scores"
   ]
  },
  {
   "cell_type": "code",
   "execution_count": 7,
   "metadata": {
    "ExecuteTime": {
     "end_time": "2019-12-06T04:29:27.976740Z",
     "start_time": "2019-12-06T04:29:27.208123Z"
    }
   },
   "outputs": [
    {
     "name": "stdout",
     "output_type": "stream",
     "text": [
      "file directory: /Users/jianinglu1/Documents/deltaVinaXGB/Test\n",
      "output score file: score.csv\n",
      "1\n",
      "2\n",
      "3\n",
      "4\n",
      "5\n",
      "6\n",
      "7\n",
      "8\n",
      "9\n",
      "10\n"
     ]
    }
   ],
   "source": [
    "os.chdir(cwd) ### our feature calculate will be conducted in datadir, it should be safe to go back after predict scores\n",
    "get_DXGB(model, modeldir, datadir, pdbid, outfile, runfeatures, water, opt, rewrite, average=average, featuretype=featuretype, runrf=runrf, runscore=runscore)\n",
    "os.chdir(cwd)"
   ]
  },
  {
   "cell_type": "code",
   "execution_count": 8,
   "metadata": {
    "ExecuteTime": {
     "end_time": "2019-12-06T04:29:40.913179Z",
     "start_time": "2019-12-06T04:29:40.902908Z"
    }
   },
   "outputs": [
    {
     "data": {
      "text/html": [
       "<div>\n",
       "<style scoped>\n",
       "    .dataframe tbody tr th:only-of-type {\n",
       "        vertical-align: middle;\n",
       "    }\n",
       "\n",
       "    .dataframe tbody tr th {\n",
       "        vertical-align: top;\n",
       "    }\n",
       "\n",
       "    .dataframe thead th {\n",
       "        text-align: right;\n",
       "    }\n",
       "</style>\n",
       "<table border=\"1\" class=\"dataframe\">\n",
       "  <thead>\n",
       "    <tr style=\"text-align: right;\">\n",
       "      <th></th>\n",
       "      <th>pdb</th>\n",
       "      <th>vina</th>\n",
       "      <th>XGB</th>\n",
       "      <th>RF20</th>\n",
       "    </tr>\n",
       "  </thead>\n",
       "  <tbody>\n",
       "    <tr>\n",
       "      <td>0</td>\n",
       "      <td>1h22</td>\n",
       "      <td>7.124770</td>\n",
       "      <td>8.174137</td>\n",
       "      <td>8.347142</td>\n",
       "    </tr>\n",
       "    <tr>\n",
       "      <td>1</td>\n",
       "      <td>4k77</td>\n",
       "      <td>5.547744</td>\n",
       "      <td>5.699233</td>\n",
       "      <td>6.136828</td>\n",
       "    </tr>\n",
       "    <tr>\n",
       "      <td>2</td>\n",
       "      <td>4dld</td>\n",
       "      <td>5.275392</td>\n",
       "      <td>5.530861</td>\n",
       "      <td>6.140189</td>\n",
       "    </tr>\n",
       "    <tr>\n",
       "      <td>3</td>\n",
       "      <td>3f3c</td>\n",
       "      <td>5.484393</td>\n",
       "      <td>5.613970</td>\n",
       "      <td>6.395983</td>\n",
       "    </tr>\n",
       "    <tr>\n",
       "      <td>4</td>\n",
       "      <td>4cig</td>\n",
       "      <td>5.580979</td>\n",
       "      <td>5.157811</td>\n",
       "      <td>5.575710</td>\n",
       "    </tr>\n",
       "  </tbody>\n",
       "</table>\n",
       "</div>"
      ],
      "text/plain": [
       "    pdb      vina       XGB      RF20\n",
       "0  1h22  7.124770  8.174137  8.347142\n",
       "1  4k77  5.547744  5.699233  6.136828\n",
       "2  4dld  5.275392  5.530861  6.140189\n",
       "3  3f3c  5.484393  5.613970  6.395983\n",
       "4  4cig  5.580979  5.157811  5.575710"
      ]
     },
     "execution_count": 8,
     "metadata": {},
     "output_type": "execute_result"
    }
   ],
   "source": [
    "### Take a look at score file \n",
    "score = pd.read_csv(\"../Test/score.csv\")\n",
    "score.head()"
   ]
  },
  {
   "cell_type": "markdown",
   "metadata": {},
   "source": [
    "### Calculate Features"
   ]
  },
  {
   "cell_type": "markdown",
   "metadata": {
    "ExecuteTime": {
     "end_time": "2019-12-06T03:46:02.108089Z",
     "start_time": "2019-12-06T03:46:02.104123Z"
    }
   },
   "source": [
    "To satisfy development requirement, we also provide method to only calculate all features or specific feature."
   ]
  },
  {
   "cell_type": "markdown",
   "metadata": {},
   "source": [
    "#### Calculate all for provided structures (rwo, rw)"
   ]
  },
  {
   "cell_type": "code",
   "execution_count": 9,
   "metadata": {
    "ExecuteTime": {
     "end_time": "2019-12-06T04:29:46.007815Z",
     "start_time": "2019-12-06T04:29:46.004026Z"
    }
   },
   "outputs": [],
   "source": [
    "model = \"DXGB\" ### tag for our deltaVinaXGB model\n",
    "modeldir = \"/Users/jianinglu1/Documents/deltaVinaXGB/model\" ### absolute model dir \n",
    "datadir = \"/Users/jianinglu1/Documents/deltaVinaXGB/Test_2al5\" ### data dir\n",
    "pdbid = \"2al5\" ### input index, can be other type\n",
    "outfile = \"score.csv\" ### provided, but should be empty\n",
    "runfeatures = True ### we want to calculate features\n",
    "water = \"rbw\" ### no water\n",
    "opt = \"rbwo\" ### no optimization\n",
    "rewrite = False ### we don't want overwrite previous generated structures and conformations\n",
    "average = True ### doesn't matter\n",
    "featuretype = \"all\" ### we want to calculate all features\n",
    "runrf = False \n",
    "runscore = False ### we don't want to calculate scores"
   ]
  },
  {
   "cell_type": "code",
   "execution_count": 10,
   "metadata": {
    "ExecuteTime": {
     "end_time": "2019-12-06T04:30:14.269871Z",
     "start_time": "2019-12-06T04:29:48.837284Z"
    }
   },
   "outputs": [
    {
     "name": "stdout",
     "output_type": "stream",
     "text": [
      "pdb index: 2al5\n",
      "file directory: /Users/jianinglu1/Documents/deltaVinaXGB/Test_2al5\n",
      "feature will be calculated:all\n",
      "Ligand for conformation stability:2al5_ligand.mol2\n",
      "Ligand for Vina, SASA, BA, ION:2al5_ligand_rename.pdb\n",
      "Protein without water molecules:2al5_protein.pdb\n",
      "Protein with water molecules:2al5_protein_all.pdb\n",
      "Finish Input Preparation\n",
      "Protein Water: calculate both RW and BW\n",
      "Use previous generated RW\n",
      "Use previous RW and BW\n",
      "Consideration of Water Effect\n",
      "Use pervious generated CO\n",
      "Use pervious generated C_RWO\n",
      "Use pervious generated C_BWO\n",
      "Finish Optimization\n",
      "C\n",
      "Finish Vina, save in Vina58.csv\n",
      "Finish SASA, save in SASA.csv\n",
      "No Ion\n",
      "Finish Ion, save in Num_Ions.csv\n",
      "Co\n",
      "Finish Vina, save in Vina58_min.csv\n",
      "Finish SASA, save in SASA_min.csv\n",
      "No Ion\n",
      "Finish Ion, save in Num_Ions_min.csv\n",
      "Crwo\n",
      "BW satisfies structural requirement:3\n",
      "Finish Bridging Water feature calculation, save in Feature_BW_min_RW.csv\n",
      "Finish Vina, save in Vina58_min_RW.csv\n",
      "Finish SASA, save in SASA_min_RW.csv\n",
      "No Ion\n",
      "Finish Ion, save in Num_Ions_min_RW.csv\n",
      "Cbwo\n",
      "BW satisfies structural requirement:3\n",
      "Finish Bridging Water feature calculation, save in Feature_BW_min_BW.csv\n",
      "Finish Vina, save in Vina58_min_BW.csv\n",
      "Finish SASA, save in SASA_min_BW.csv\n",
      "No Ion\n",
      "Finish Ion, save in Num_Ions_min_BW.csv\n",
      "Use previous generated confs\n",
      "Input Type:mol2\n",
      "Finish ligand stability calculation, save in dE_RMSD.csv\n",
      "Features has been saved in Input.csv\n",
      "Features has been saved in Input_min.csv\n",
      "Features has been saved in Input_min_RW.csv\n",
      "Features has been saved in Input_min_BW.csv\n",
      "Finish Feature Calculation\n"
     ]
    }
   ],
   "source": [
    "cwd = os.getcwd() ### our feature calculate will be conducted in datadir, it should be safe to go back after predict scores\n",
    "get_DXGB(model, modeldir, datadir, pdbid, outfile, runfeatures, water, opt, rewrite, average=average, featuretype=featuretype, runrf=runrf, runscore=runscore)\n",
    "os.chdir(cwd)"
   ]
  },
  {
   "cell_type": "markdown",
   "metadata": {},
   "source": [
    "#### Calculate specfic feature (no opt, no rw)"
   ]
  },
  {
   "cell_type": "markdown",
   "metadata": {},
   "source": [
    "##### Vina"
   ]
  },
  {
   "cell_type": "code",
   "execution_count": 11,
   "metadata": {
    "ExecuteTime": {
     "end_time": "2019-12-06T04:30:44.430353Z",
     "start_time": "2019-12-06T04:30:44.426558Z"
    }
   },
   "outputs": [],
   "source": [
    "model = \"DXGB\" ### tag for our deltaVinaXGB model\n",
    "modeldir = \"/Users/jianinglu1/Documents/deltaVinaXGB/model\" ### absolute model dir \n",
    "datadir = \"/Users/jianinglu1/Documents/deltaVinaXGB/Test_2al5\" ### data dir\n",
    "pdbid = \"2al5\" ### input index, can be other type\n",
    "outfile = \"score.csv\" ### provided, but should be empty\n",
    "runfeatures = True ### we want to calculate features\n",
    "water = False ### no water\n",
    "opt = False ### no optimization\n",
    "rewrite = False ### we don't want overwrite previous generated structures and conformations\n",
    "average = True ### doesn't matter\n",
    "featuretype = \"Vina\" ### we want to calculate all features\n",
    "runrf = False \n",
    "runscore = False ### we don't want to calculate scores"
   ]
  },
  {
   "cell_type": "code",
   "execution_count": 12,
   "metadata": {
    "ExecuteTime": {
     "end_time": "2019-12-06T04:30:50.499190Z",
     "start_time": "2019-12-06T04:30:47.579765Z"
    }
   },
   "outputs": [
    {
     "name": "stdout",
     "output_type": "stream",
     "text": [
      "pdb index: 2al5\n",
      "file directory: /Users/jianinglu1/Documents/deltaVinaXGB/Test_2al5\n",
      "feature will be calculated:Vina\n",
      "Ligand for conformation stability:2al5_ligand.mol2\n",
      "Ligand for Vina, SASA, BA, ION:2al5_ligand_rename.pdb\n",
      "Protein without water molecules:2al5_protein.pdb\n",
      "Protein with water molecules:2al5_protein_all.pdb\n",
      "Finish Input Preparation\n",
      "No Consideration of Water\n",
      "No Optimized Ligand\n",
      "C\n",
      "Finish Vina, save in Vina58.csv\n",
      "Use previous calculated SASA in SASA.csv\n",
      "Use previous calculated Ion in Num_Ions.csv\n",
      "Use previous calculated ligand stability in dE_RMSD.csv\n",
      "Finish Feature Calculation\n"
     ]
    }
   ],
   "source": [
    "cwd = os.getcwd() ### our feature calculate will be conducted in datadir, it should be safe to go back after predict scores\n",
    "get_DXGB(model, modeldir, datadir, pdbid, outfile, runfeatures, water, opt, rewrite, average=average, featuretype=featuretype, runrf=runrf, runscore=runscore)\n",
    "os.chdir(cwd)"
   ]
  },
  {
   "cell_type": "markdown",
   "metadata": {},
   "source": [
    "##### SASA"
   ]
  },
  {
   "cell_type": "code",
   "execution_count": 13,
   "metadata": {
    "ExecuteTime": {
     "end_time": "2019-12-06T04:30:53.068958Z",
     "start_time": "2019-12-06T04:30:53.065192Z"
    }
   },
   "outputs": [],
   "source": [
    "model = \"DXGB\" ### tag for our deltaVinaXGB model\n",
    "modeldir = \"/Users/jianinglu1/Documents/deltaVinaXGB/model\" ### absolute model dir \n",
    "datadir = \"/Users/jianinglu1/Documents/deltaVinaXGB/Test_2al5\" ### data dir\n",
    "pdbid = \"2al5\" ### input index, can be other type\n",
    "outfile = \"score.csv\" ### provided, but should be empty\n",
    "runfeatures = True ### we want to calculate features\n",
    "water = False ### no water\n",
    "opt = False ### no optimization\n",
    "rewrite = False ### we don't want overwrite previous generated structures and conformations\n",
    "average = True ### doesn't matter\n",
    "featuretype = \"SASA\" ### we want to calculate all features\n",
    "runrf = False \n",
    "runscore = False ### we don't want to calculate scores"
   ]
  },
  {
   "cell_type": "code",
   "execution_count": 14,
   "metadata": {
    "ExecuteTime": {
     "end_time": "2019-12-06T04:30:57.102531Z",
     "start_time": "2019-12-06T04:30:55.345326Z"
    }
   },
   "outputs": [
    {
     "name": "stdout",
     "output_type": "stream",
     "text": [
      "pdb index: 2al5\n",
      "file directory: /Users/jianinglu1/Documents/deltaVinaXGB/Test_2al5\n",
      "feature will be calculated:SASA\n",
      "Ligand for conformation stability:2al5_ligand.mol2\n",
      "Ligand for Vina, SASA, BA, ION:2al5_ligand_rename.pdb\n",
      "Protein without water molecules:2al5_protein.pdb\n",
      "Protein with water molecules:2al5_protein_all.pdb\n",
      "Finish Input Preparation\n",
      "No Consideration of Water\n",
      "No Optimized Ligand\n",
      "C\n",
      "Use previous calculated Vina in Vina58.csv\n",
      "Finish SASA, save in SASA.csv\n",
      "Use previous calculated Ion in Num_Ions.csv\n",
      "Use previous calculated ligand stability in dE_RMSD.csv\n",
      "Finish Feature Calculation\n"
     ]
    }
   ],
   "source": [
    "cwd = os.getcwd() ### our feature calculate will be conducted in datadir, it should be safe to go back after predict scores\n",
    "get_DXGB(model, modeldir, datadir, pdbid, outfile, runfeatures, water, opt, rewrite, average=average, featuretype=featuretype, runrf=runrf, runscore=runscore)\n",
    "os.chdir(cwd)"
   ]
  },
  {
   "cell_type": "markdown",
   "metadata": {},
   "source": [
    "##### ligand stability "
   ]
  },
  {
   "cell_type": "code",
   "execution_count": 15,
   "metadata": {
    "ExecuteTime": {
     "end_time": "2019-12-06T04:30:59.822429Z",
     "start_time": "2019-12-06T04:30:59.818606Z"
    }
   },
   "outputs": [],
   "source": [
    "model = \"DXGB\" ### tag for our deltaVinaXGB model\n",
    "modeldir = \"/Users/jianinglu1/Documents/deltaVinaXGB/model\" ### absolute model dir \n",
    "datadir = \"/Users/jianinglu1/Documents/deltaVinaXGB/Test_2al5\" ### data dir\n",
    "pdbid = \"2al5\" ### input index, can be other type\n",
    "outfile = \"score.csv\" ### provided, but should be empty\n",
    "runfeatures = True ### we want to calculate features\n",
    "water = False ### no water\n",
    "opt = False ### no optimization\n",
    "rewrite = False ### we don't want overwrite previous generated structures and conformations\n",
    "average = True ### doesn't matter\n",
    "featuretype = \"dE\" ### we want to calculate all features\n",
    "runrf = False \n",
    "runscore = False ### we don't want to calculate scores"
   ]
  },
  {
   "cell_type": "code",
   "execution_count": 16,
   "metadata": {
    "ExecuteTime": {
     "end_time": "2019-12-06T04:31:01.033051Z",
     "start_time": "2019-12-06T04:31:00.855719Z"
    }
   },
   "outputs": [
    {
     "name": "stdout",
     "output_type": "stream",
     "text": [
      "pdb index: 2al5\n",
      "file directory: /Users/jianinglu1/Documents/deltaVinaXGB/Test_2al5\n",
      "feature will be calculated:dE\n",
      "Ligand for conformation stability:2al5_ligand.mol2\n",
      "Ligand for Vina, SASA, BA, ION:2al5_ligand_rename.pdb\n",
      "Protein without water molecules:2al5_protein.pdb\n",
      "Protein with water molecules:2al5_protein_all.pdb\n",
      "Finish Input Preparation\n",
      "No Consideration of Water\n",
      "No Optimized Ligand\n",
      "C\n",
      "Use previous calculated Vina in Vina58.csv\n",
      "Use previous calculated SASA in SASA.csv\n",
      "Use previous calculated Ion in Num_Ions.csv\n",
      "Use previous generated confs\n",
      "Input Type:mol2\n",
      "Finish ligand stability calculation, save in dE_RMSD.csv\n",
      "Finish Feature Calculation\n"
     ]
    }
   ],
   "source": [
    "cwd = os.getcwd() ### our feature calculate will be conducted in datadir, it should be safe to go back after predict scores\n",
    "get_DXGB(model, modeldir, datadir, pdbid, outfile, runfeatures, water, opt, rewrite, average=average, featuretype=featuretype, runrf=runrf, runscore=runscore)\n",
    "os.chdir(cwd)"
   ]
  }
 ],
 "metadata": {
  "kernelspec": {
   "display_name": "DXGB",
   "language": "python",
   "name": "myenv"
  },
  "language_info": {
   "codemirror_mode": {
    "name": "ipython",
    "version": 3
   },
   "file_extension": ".py",
   "mimetype": "text/x-python",
   "name": "python",
   "nbconvert_exporter": "python",
   "pygments_lexer": "ipython3",
   "version": "3.7.3"
  },
  "toc": {
   "colors": {
    "hover_highlight": "#DAA520",
    "navigate_num": "#000000",
    "navigate_text": "#333333",
    "running_highlight": "#FF0000",
    "selected_highlight": "#FFD700",
    "sidebar_border": "#EEEEEE",
    "wrapper_background": "#FFFFFF"
   },
   "moveMenuLeft": true,
   "nav_menu": {
    "height": "30px",
    "width": "252px"
   },
   "navigate_menu": true,
   "number_sections": true,
   "sideBar": true,
   "skip_h1_title": false,
   "threshold": 4,
   "toc_cell": false,
   "toc_section_display": "block",
   "toc_window_display": false,
   "widenNotebook": false
  }
 },
 "nbformat": 4,
 "nbformat_minor": 2
}
