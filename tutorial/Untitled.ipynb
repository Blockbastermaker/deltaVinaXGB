{
 "cells": [
  {
   "cell_type": "code",
   "execution_count": 2,
   "metadata": {
    "ExecuteTime": {
     "end_time": "2019-12-06T00:24:08.975304Z",
     "start_time": "2019-12-06T00:24:07.831900Z"
    }
   },
   "outputs": [],
   "source": [
    "from DXGB.get_DXGB import get_DXGB"
   ]
  },
  {
   "cell_type": "markdown",
   "metadata": {},
   "source": [
    "get_DXGB is the major function for DXGB, and it provides many options"
   ]
  },
  {
   "cell_type": "code",
   "execution_count": 8,
   "metadata": {
    "ExecuteTime": {
     "end_time": "2019-12-06T00:11:53.036669Z",
     "start_time": "2019-12-06T00:11:53.032996Z"
    }
   },
   "outputs": [
    {
     "name": "stdout",
     "output_type": "stream",
     "text": [
      "Help on function get_DXGB in module DXGB.get_DXGB:\n",
      "\n",
      "get_DXGB(model, modeldir, datadir, pdbid, outfile, runfeatures, water, opt, rewrite, average=True, modelidx='1', featuretype='all', runrf=False, runscore=True)\n",
      "    Get deltaVinaXGB all features and score\n",
      "    \n",
      "    Parameters\n",
      "    ----------\n",
      "    model : str\n",
      "        model type, DXGB is the one for our previous trained deltaVinaXGB.\n",
      "    modeldir : str\n",
      "        directory for models, the previous trained models should be in the modeldir/model.\n",
      "    datadir : str\n",
      "        directory for data(input structures or features), and all output files.\n",
      "    pdbid : str\n",
      "        unique index for input data, can be pdb id, or any other customrized index.\n",
      "    outfile : str\n",
      "        output score file name (format is csv)\n",
      "    runfeatures : bool\n",
      "        whether to calculate features.\n",
      "    water : str\n",
      "        water type, can be:\n",
      "        \"rbw\" --> all types of water, \n",
      "        \"rw\" --> only receptor water, \n",
      "        \"bw\" --> only bridging water.\n",
      "    opt : str\n",
      "        optimization type, can be:\n",
      "        \"rbwo\" --> all types of optimization, \n",
      "        \"rwo\" --> only optimizaion with receptor water,\n",
      "        \"bwo\" --> only optimization with bridging water, \n",
      "        \"o\" --> optimization with no water.\n",
      "    rewrite : bool\n",
      "        whether to rewrite protein with water stucture, optimized ligand structure, ligand conformation generation results.\n",
      "    average : bool\n",
      "        whether to use ensemble model results, defaults to True.\n",
      "    modelidx : str\n",
      "        requires when average=False, used to define which model will be used to predict score, defaults to \"1\".\n",
      "    featuretype : str\n",
      "        requires when runfeatures=True, used to define which features will be calculated, defaults to \"all\", can be:\n",
      "        \"all\" --> calculate all features,\n",
      "        \"Vina\" --> calculate Vina58, \n",
      "        \"SASA\" --> calculate SASA, \n",
      "        \"BW\" --> calculate bridging water features, \n",
      "        \"Ion\" --> calculate ion features, \n",
      "        \"dE\" --> calculate ligand stability features.\n",
      "    runrf : bool\n",
      "        whether to calculate deltaVinaRF score, defaults to False.\n",
      "    runscore:bool\n",
      "        whether to calculate score, defaults to True. If False and runfeatures=True, only performes feature calculation.\n",
      "        \n",
      "    Return\n",
      "    ----------\n",
      "    output score will be saved in outfile, together with all other calculated features will be saved in datadir\n",
      "\n"
     ]
    }
   ],
   "source": [
    "help(get_DXGB)"
   ]
  },
  {
   "cell_type": "markdown",
   "metadata": {},
   "source": [
    "### Calculate Score for 2al5"
   ]
  },
  {
   "cell_type": "markdown",
   "metadata": {},
   "source": [
    "our model has been saved in *modeldir/model/*. <br>\n",
    "If you have other trained model, you can also save it in *modeldir/youmodeltag*, and use that model to predict score. In that case, make sure your Input.csv (or Input_min/min_RW/min_BW.csv) has right features in right order"
   ]
  },
  {
   "cell_type": "code",
   "execution_count": 9,
   "metadata": {
    "ExecuteTime": {
     "end_time": "2019-12-06T00:12:00.008893Z",
     "start_time": "2019-12-06T00:12:00.005005Z"
    }
   },
   "outputs": [],
   "source": [
    "model = \"DXGB\" ### tag for our deltaVinaXGB model\n",
    "modeldir = \"/Users/jianinglu1/Documents/deltaVinaXGB/model\" ### absolute model dir \n",
    "datadir = \"/Users/jianinglu1/Documents/deltaVinaXGB/Test_2al5\" ### data dir\n",
    "pdbid = \"2al5\" ### input index, can be other type\n",
    "outfile = \"score.csv\" ### output file name\n",
    "runfeatures = True ### we want to calculate features\n",
    "water = \"rbw\" ### consider both receptor water and bridging water \n",
    "opt = \"rbwo\" ### optimize structures in all situations\n",
    "rewrite = False ### we don't want overwrite previous generated structures and conformations\n",
    "average=True ### we use ensemble models (10 models)\n",
    "featuretype=\"all\" ### since we don't have any features, we want to calculate all features\n",
    "runrf=True ### except Vina and deltaVinaXGB, we also want to calcualate deltaVinaRF\n",
    "runscore=True ### we want to calculate scores"
   ]
  },
  {
   "cell_type": "code",
   "execution_count": 10,
   "metadata": {
    "ExecuteTime": {
     "end_time": "2019-12-06T00:16:40.479383Z",
     "start_time": "2019-12-06T00:12:00.573465Z"
    }
   },
   "outputs": [
    {
     "name": "stdout",
     "output_type": "stream",
     "text": [
      "pdb index: 2al5\n",
      "file directory: /Users/jianinglu1/Documents/deltaVinaXGB/Test_2al5\n",
      "feature will be calculated:all\n",
      "output filename : score.csv\n",
      "Ligand for conformation stability:2al5_ligand.mol2\n",
      "Ligand for Vina, SASA, BA, ION:2al5_ligand_rename.pdb\n",
      "Protein without water molecules:2al5_protein.pdb\n",
      "Protein with water molecules:2al5_protein_all.pdb\n",
      "Finish Input Preparation\n",
      "Protein Water: calculate both RW and BW\n",
      "RW satisfiles distance requirement:572\n",
      "563 RW have been saved in 2al5_protein_RW.pdb\n",
      "BW satisfiles structural requirement:3\n",
      "3 BW have been saved in 2al5_protein_BW.pdb\n",
      "Finish generate BW\n",
      "Consideration of Water Effect\n",
      "Finish Optimization\n",
      "C\n",
      "Finish Vina\n"
     ]
    },
    {
     "ename": "AttributeError",
     "evalue": "module 'pybel' has no attribute 'ob'",
     "output_type": "error",
     "traceback": [
      "\u001b[0;31m---------------------------------------------------------------------------\u001b[0m",
      "\u001b[0;31mAttributeError\u001b[0m                            Traceback (most recent call last)",
      "\u001b[0;32m<ipython-input-10-4a7022bbebc4>\u001b[0m in \u001b[0;36m<module>\u001b[0;34m\u001b[0m\n\u001b[0;32m----> 1\u001b[0;31m \u001b[0mget_DXGB\u001b[0m\u001b[0;34m(\u001b[0m\u001b[0mmodel\u001b[0m\u001b[0;34m,\u001b[0m \u001b[0mmodeldir\u001b[0m\u001b[0;34m,\u001b[0m \u001b[0mdatadir\u001b[0m\u001b[0;34m,\u001b[0m \u001b[0mpdbid\u001b[0m\u001b[0;34m,\u001b[0m \u001b[0moutfile\u001b[0m\u001b[0;34m,\u001b[0m \u001b[0mrunfeatures\u001b[0m\u001b[0;34m,\u001b[0m \u001b[0mwater\u001b[0m\u001b[0;34m,\u001b[0m \u001b[0mopt\u001b[0m\u001b[0;34m,\u001b[0m \u001b[0mrewrite\u001b[0m\u001b[0;34m,\u001b[0m \u001b[0maverage\u001b[0m\u001b[0;34m=\u001b[0m\u001b[0;32mTrue\u001b[0m\u001b[0;34m,\u001b[0m \u001b[0mfeaturetype\u001b[0m\u001b[0;34m=\u001b[0m\u001b[0;34m'all'\u001b[0m\u001b[0;34m,\u001b[0m \u001b[0mrunrf\u001b[0m\u001b[0;34m=\u001b[0m\u001b[0;32mFalse\u001b[0m\u001b[0;34m,\u001b[0m \u001b[0mrunscore\u001b[0m\u001b[0;34m=\u001b[0m\u001b[0;32mTrue\u001b[0m\u001b[0;34m)\u001b[0m\u001b[0;34m\u001b[0m\u001b[0;34m\u001b[0m\u001b[0m\n\u001b[0m",
      "\u001b[0;32m~/anaconda3/lib/python3.7/site-packages/DXGB-0.1.0-py3.7.egg/DXGB/get_DXGB.py\u001b[0m in \u001b[0;36mget_DXGB\u001b[0;34m(model, modeldir, datadir, pdbid, outfile, runfeatures, water, opt, rewrite, average, modelidx, featuretype, runrf, runscore)\u001b[0m\n\u001b[1;32m     79\u001b[0m         \u001b[0;32mif\u001b[0m \u001b[0;32mnot\u001b[0m \u001b[0mopt\u001b[0m\u001b[0;34m:\u001b[0m\u001b[0;34m\u001b[0m\u001b[0;34m\u001b[0m\u001b[0m\n\u001b[1;32m     80\u001b[0m             \u001b[0mopt\u001b[0m \u001b[0;34m=\u001b[0m \u001b[0;34m\"n\"\u001b[0m\u001b[0;34m\u001b[0m\u001b[0;34m\u001b[0m\u001b[0m\n\u001b[0;32m---> 81\u001b[0;31m         \u001b[0mrun_features\u001b[0m\u001b[0;34m(\u001b[0m\u001b[0mdatadir\u001b[0m\u001b[0;34m,\u001b[0m \u001b[0mpdbid\u001b[0m\u001b[0;34m,\u001b[0m \u001b[0mwater_type\u001b[0m \u001b[0;34m=\u001b[0m \u001b[0mwater\u001b[0m\u001b[0;34m,\u001b[0m \u001b[0mopt_type\u001b[0m \u001b[0;34m=\u001b[0m \u001b[0mopt\u001b[0m\u001b[0;34m,\u001b[0m \u001b[0mrewrite\u001b[0m \u001b[0;34m=\u001b[0m \u001b[0mrewrite\u001b[0m\u001b[0;34m,\u001b[0m \u001b[0mfeature_type\u001b[0m \u001b[0;34m=\u001b[0m \u001b[0mfeaturetype\u001b[0m\u001b[0;34m)\u001b[0m\u001b[0;34m\u001b[0m\u001b[0;34m\u001b[0m\u001b[0m\n\u001b[0m\u001b[1;32m     82\u001b[0m         \u001b[0mos\u001b[0m\u001b[0;34m.\u001b[0m\u001b[0mchdir\u001b[0m\u001b[0;34m(\u001b[0m\u001b[0molddir\u001b[0m\u001b[0;34m)\u001b[0m\u001b[0;34m\u001b[0m\u001b[0;34m\u001b[0m\u001b[0m\n\u001b[1;32m     83\u001b[0m \u001b[0;34m\u001b[0m\u001b[0m\n",
      "\u001b[0;32m~/anaconda3/lib/python3.7/site-packages/DXGB-0.1.0-py3.7.egg/DXGB/run_features.py\u001b[0m in \u001b[0;36mrun_features\u001b[0;34m(datadir, pdbid, water_type, opt_type, rewrite, feature_type)\u001b[0m\n\u001b[1;32m    597\u001b[0m \u001b[0;34m\u001b[0m\u001b[0m\n\u001b[1;32m    598\u001b[0m     \u001b[0;31m### update input structures ###\u001b[0m\u001b[0;34m\u001b[0m\u001b[0;34m\u001b[0m\u001b[0;34m\u001b[0m\u001b[0m\n\u001b[0;32m--> 599\u001b[0;31m     \u001b[0mfeature_calculation_ligand\u001b[0m\u001b[0;34m(\u001b[0m\u001b[0mdatadir\u001b[0m\u001b[0;34m,\u001b[0m \u001b[0mpdbid\u001b[0m\u001b[0;34m,\u001b[0m \u001b[0minlig_pdb\u001b[0m\u001b[0;34m,\u001b[0m \u001b[0minlig_rdkit\u001b[0m\u001b[0;34m,\u001b[0m \u001b[0minpro_pro\u001b[0m\u001b[0;34m,\u001b[0m \u001b[0mwater_type\u001b[0m\u001b[0;34m,\u001b[0m \u001b[0mopt_type\u001b[0m\u001b[0;34m,\u001b[0m \u001b[0mrewrite\u001b[0m\u001b[0;34m,\u001b[0m \u001b[0mfeature_type\u001b[0m\u001b[0;34m)\u001b[0m\u001b[0;34m\u001b[0m\u001b[0;34m\u001b[0m\u001b[0m\n\u001b[0m\u001b[1;32m    600\u001b[0m     \u001b[0mprint\u001b[0m\u001b[0;34m(\u001b[0m\u001b[0;34m\"Finish Feature Calculation\"\u001b[0m\u001b[0;34m)\u001b[0m\u001b[0;34m\u001b[0m\u001b[0;34m\u001b[0m\u001b[0m\n\u001b[1;32m    601\u001b[0m \u001b[0;34m\u001b[0m\u001b[0m\n",
      "\u001b[0;32m~/anaconda3/lib/python3.7/site-packages/DXGB-0.1.0-py3.7.egg/DXGB/run_features.py\u001b[0m in \u001b[0;36mfeature_calculation_ligand\u001b[0;34m(datadir, fn, inlig_pdb, inlig_rdkit, inpro_pro, water_type, opt_type, rewrite, feature_type)\u001b[0m\n\u001b[1;32m    526\u001b[0m         \u001b[0;31m### get sasa ###\u001b[0m\u001b[0;34m\u001b[0m\u001b[0;34m\u001b[0m\u001b[0;34m\u001b[0m\u001b[0m\n\u001b[1;32m    527\u001b[0m         \u001b[0;32mif\u001b[0m \u001b[0mfeature_type\u001b[0m \u001b[0;34m==\u001b[0m \u001b[0;34m\"all\"\u001b[0m \u001b[0;32mor\u001b[0m \u001b[0mfeature_type\u001b[0m \u001b[0;34m==\u001b[0m \u001b[0;34m\"SASA\"\u001b[0m\u001b[0;34m:\u001b[0m\u001b[0;34m\u001b[0m\u001b[0;34m\u001b[0m\u001b[0m\n\u001b[0;32m--> 528\u001b[0;31m             \u001b[0mrun_SASA_features\u001b[0m\u001b[0;34m(\u001b[0m\u001b[0mdatadir\u001b[0m\u001b[0;34m,\u001b[0m \u001b[0mi\u001b[0m\u001b[0;34m,\u001b[0m \u001b[0mfn\u001b[0m\u001b[0;34m,\u001b[0m \u001b[0minpro\u001b[0m\u001b[0;34m,\u001b[0m \u001b[0minlig\u001b[0m\u001b[0;34m)\u001b[0m\u001b[0;34m\u001b[0m\u001b[0;34m\u001b[0m\u001b[0m\n\u001b[0m\u001b[1;32m    529\u001b[0m             \u001b[0mprint\u001b[0m\u001b[0;34m(\u001b[0m\u001b[0;34m\"Finish SASA\"\u001b[0m\u001b[0;34m)\u001b[0m\u001b[0;34m\u001b[0m\u001b[0;34m\u001b[0m\u001b[0m\n\u001b[1;32m    530\u001b[0m         \u001b[0;32melse\u001b[0m\u001b[0;34m:\u001b[0m\u001b[0;34m\u001b[0m\u001b[0;34m\u001b[0m\u001b[0m\n",
      "\u001b[0;32m~/anaconda3/lib/python3.7/site-packages/DXGB-0.1.0-py3.7.egg/DXGB/run_features.py\u001b[0m in \u001b[0;36mrun_SASA_features\u001b[0;34m(datadir, d_type, fn, inpro, inlig)\u001b[0m\n\u001b[1;32m    381\u001b[0m     \u001b[0mout_SASA\u001b[0m \u001b[0;34m=\u001b[0m \u001b[0mopen\u001b[0m\u001b[0;34m(\u001b[0m\u001b[0mos\u001b[0m\u001b[0;34m.\u001b[0m\u001b[0mpath\u001b[0m\u001b[0;34m.\u001b[0m\u001b[0mjoin\u001b[0m\u001b[0;34m(\u001b[0m\u001b[0mdatadir\u001b[0m\u001b[0;34m,\u001b[0m \u001b[0;34m\"SASA\"\u001b[0m \u001b[0;34m+\u001b[0m \u001b[0md_type\u001b[0m \u001b[0;34m+\u001b[0m \u001b[0;34m\".csv\"\u001b[0m\u001b[0;34m)\u001b[0m\u001b[0;34m,\u001b[0m\u001b[0;34m\"w\"\u001b[0m\u001b[0;34m)\u001b[0m\u001b[0;34m\u001b[0m\u001b[0;34m\u001b[0m\u001b[0m\n\u001b[1;32m    382\u001b[0m     \u001b[0mout_SASA\u001b[0m\u001b[0;34m.\u001b[0m\u001b[0mwrite\u001b[0m\u001b[0;34m(\u001b[0m\u001b[0;34m\"pdb,\"\u001b[0m \u001b[0;34m+\u001b[0m \u001b[0;34m\",\"\u001b[0m\u001b[0;34m.\u001b[0m\u001b[0mjoin\u001b[0m\u001b[0;34m(\u001b[0m\u001b[0mf_feature\u001b[0m\u001b[0;34m)\u001b[0m \u001b[0;34m+\u001b[0m \u001b[0;34m\"\\n\"\u001b[0m\u001b[0;34m)\u001b[0m\u001b[0;34m\u001b[0m\u001b[0;34m\u001b[0m\u001b[0m\n\u001b[0;32m--> 383\u001b[0;31m     \u001b[0mcal_SASA\u001b[0m\u001b[0;34m(\u001b[0m\u001b[0mout_SASA\u001b[0m\u001b[0;34m,\u001b[0m\u001b[0mfn\u001b[0m\u001b[0;34m,\u001b[0m\u001b[0minlig\u001b[0m\u001b[0;34m,\u001b[0m\u001b[0minpro\u001b[0m\u001b[0;34m,\u001b[0m\u001b[0mdatadir\u001b[0m\u001b[0;34m)\u001b[0m\u001b[0;34m\u001b[0m\u001b[0;34m\u001b[0m\u001b[0m\n\u001b[0m\u001b[1;32m    384\u001b[0m     \u001b[0mout_SASA\u001b[0m\u001b[0;34m.\u001b[0m\u001b[0mclose\u001b[0m\u001b[0;34m(\u001b[0m\u001b[0;34m)\u001b[0m\u001b[0;34m\u001b[0m\u001b[0;34m\u001b[0m\u001b[0m\n\u001b[1;32m    385\u001b[0m \u001b[0;34m\u001b[0m\u001b[0m\n",
      "\u001b[0;32m~/anaconda3/lib/python3.7/site-packages/DXGB-0.1.0-py3.7.egg/DXGB/cal_sasa.py\u001b[0m in \u001b[0;36mcal_SASA\u001b[0;34m(out, fn, lig, pro, datadir)\u001b[0m\n\u001b[1;32m     24\u001b[0m     \u001b[0mpro\u001b[0m \u001b[0;34m=\u001b[0m \u001b[0mos\u001b[0m\u001b[0;34m.\u001b[0m\u001b[0mpath\u001b[0m\u001b[0;34m.\u001b[0m\u001b[0mjoin\u001b[0m\u001b[0;34m(\u001b[0m\u001b[0mdatadir\u001b[0m\u001b[0;34m,\u001b[0m\u001b[0mpro\u001b[0m\u001b[0;34m)\u001b[0m\u001b[0;34m\u001b[0m\u001b[0;34m\u001b[0m\u001b[0m\n\u001b[1;32m     25\u001b[0m     \u001b[0mlig\u001b[0m \u001b[0;34m=\u001b[0m \u001b[0mos\u001b[0m\u001b[0;34m.\u001b[0m\u001b[0mpath\u001b[0m\u001b[0;34m.\u001b[0m\u001b[0mjoin\u001b[0m\u001b[0;34m(\u001b[0m\u001b[0mdatadir\u001b[0m\u001b[0;34m,\u001b[0m\u001b[0mlig\u001b[0m\u001b[0;34m)\u001b[0m\u001b[0;34m\u001b[0m\u001b[0;34m\u001b[0m\u001b[0m\n\u001b[0;32m---> 26\u001b[0;31m     \u001b[0msasa_features\u001b[0m \u001b[0;34m=\u001b[0m \u001b[0msasa\u001b[0m\u001b[0;34m(\u001b[0m\u001b[0mdatadir\u001b[0m\u001b[0;34m,\u001b[0m\u001b[0mpro\u001b[0m\u001b[0;34m,\u001b[0m\u001b[0mlig\u001b[0m\u001b[0;34m)\u001b[0m\u001b[0;34m\u001b[0m\u001b[0;34m\u001b[0m\u001b[0m\n\u001b[0m\u001b[1;32m     27\u001b[0m     \u001b[0msasa_com\u001b[0m \u001b[0;34m=\u001b[0m \u001b[0msasa_features\u001b[0m\u001b[0;34m.\u001b[0m\u001b[0msasa\u001b[0m\u001b[0;34m\u001b[0m\u001b[0;34m\u001b[0m\u001b[0m\n\u001b[1;32m     28\u001b[0m     \u001b[0msasa_pro\u001b[0m \u001b[0;34m=\u001b[0m \u001b[0msasa_features\u001b[0m\u001b[0;34m.\u001b[0m\u001b[0msasa_pro\u001b[0m\u001b[0;34m\u001b[0m\u001b[0;34m\u001b[0m\u001b[0m\n",
      "\u001b[0;32m~/anaconda3/lib/python3.7/site-packages/DXGB-0.1.0-py3.7.egg/DXGB/featureSASA.py\u001b[0m in \u001b[0;36m__init__\u001b[0;34m(self, datadir, prot, lig)\u001b[0m\n\u001b[1;32m    222\u001b[0m         \u001b[0mself\u001b[0m\u001b[0;34m.\u001b[0m\u001b[0mdatadir\u001b[0m \u001b[0;34m=\u001b[0m \u001b[0mdatadir\u001b[0m\u001b[0;34m\u001b[0m\u001b[0;34m\u001b[0m\u001b[0m\n\u001b[1;32m    223\u001b[0m \u001b[0;34m\u001b[0m\u001b[0m\n\u001b[0;32m--> 224\u001b[0;31m         \u001b[0mself\u001b[0m\u001b[0;34m.\u001b[0m\u001b[0mrawdata\u001b[0m\u001b[0;34m,\u001b[0m \u001b[0mself\u001b[0m\u001b[0;34m.\u001b[0m\u001b[0mrawdata_pro\u001b[0m\u001b[0;34m,\u001b[0m \u001b[0mself\u001b[0m\u001b[0;34m.\u001b[0m\u001b[0mrawdata_lig\u001b[0m\u001b[0;34m,\u001b[0m \u001b[0mself\u001b[0m\u001b[0;34m.\u001b[0m\u001b[0msasa\u001b[0m\u001b[0;34m,\u001b[0m \u001b[0mself\u001b[0m\u001b[0;34m.\u001b[0m\u001b[0msasa_pro\u001b[0m\u001b[0;34m,\u001b[0m \u001b[0mself\u001b[0m\u001b[0;34m.\u001b[0m\u001b[0msasa_lig\u001b[0m \u001b[0;34m=\u001b[0m \u001b[0mfeatureSASA\u001b[0m\u001b[0;34m(\u001b[0m \u001b[0mself\u001b[0m\u001b[0;34m.\u001b[0m\u001b[0mdatadir\u001b[0m\u001b[0;34m,\u001b[0m \u001b[0mself\u001b[0m\u001b[0;34m.\u001b[0m\u001b[0mprot\u001b[0m\u001b[0;34m,\u001b[0m \u001b[0mself\u001b[0m\u001b[0;34m.\u001b[0m\u001b[0mlig\u001b[0m\u001b[0;34m)\u001b[0m\u001b[0;34m\u001b[0m\u001b[0;34m\u001b[0m\u001b[0m\n\u001b[0m\u001b[1;32m    225\u001b[0m \u001b[0;34m\u001b[0m\u001b[0m\n\u001b[1;32m    226\u001b[0m \u001b[0;34m\u001b[0m\u001b[0m\n",
      "\u001b[0;32m~/anaconda3/lib/python3.7/site-packages/DXGB-0.1.0-py3.7.egg/DXGB/featureSASA.py\u001b[0m in \u001b[0;36mfeatureSASA\u001b[0;34m(datadir, inprot, inlig, write)\u001b[0m\n\u001b[1;32m    152\u001b[0m \u001b[0;34m\u001b[0m\u001b[0m\n\u001b[1;32m    153\u001b[0m     \u001b[0;31m# run MSMS\u001b[0m\u001b[0;34m\u001b[0m\u001b[0;34m\u001b[0m\u001b[0;34m\u001b[0m\u001b[0m\n\u001b[0;32m--> 154\u001b[0;31m     \u001b[0mdf\u001b[0m\u001b[0;34m,\u001b[0m\u001b[0mdf_pro\u001b[0m\u001b[0;34m,\u001b[0m\u001b[0mdf_lig\u001b[0m \u001b[0;34m=\u001b[0m \u001b[0mrunMSMS\u001b[0m\u001b[0;34m(\u001b[0m\u001b[0minprot\u001b[0m\u001b[0;34m,\u001b[0m \u001b[0minlig\u001b[0m\u001b[0;34m,\u001b[0m \u001b[0mdatadir\u001b[0m\u001b[0;34m)\u001b[0m\u001b[0;34m\u001b[0m\u001b[0;34m\u001b[0m\u001b[0m\n\u001b[0m\u001b[1;32m    155\u001b[0m \u001b[0;34m\u001b[0m\u001b[0m\n\u001b[1;32m    156\u001b[0m     \u001b[0;31m## delta SASA with clip 0 (if value less 0, cut to 0)\u001b[0m\u001b[0;34m\u001b[0m\u001b[0;34m\u001b[0m\u001b[0;34m\u001b[0m\u001b[0m\n",
      "\u001b[0;32m~/anaconda3/lib/python3.7/site-packages/DXGB-0.1.0-py3.7.egg/DXGB/featureSASA.py\u001b[0m in \u001b[0;36mrunMSMS\u001b[0;34m(inprot, inlig, MSMSDIR)\u001b[0m\n\u001b[1;32m     67\u001b[0m     \u001b[0mlpdb2\u001b[0m \u001b[0;34m=\u001b[0m \u001b[0;34m'l_sa.pdb'\u001b[0m\u001b[0;34m\u001b[0m\u001b[0;34m\u001b[0m\u001b[0m\n\u001b[1;32m     68\u001b[0m \u001b[0;34m\u001b[0m\u001b[0m\n\u001b[0;32m---> 69\u001b[0;31m     \u001b[0mpidx\u001b[0m\u001b[0;34m,\u001b[0m \u001b[0mppharm\u001b[0m \u001b[0;34m=\u001b[0m \u001b[0mpharma\u001b[0m\u001b[0;34m(\u001b[0m\u001b[0;34m'p.pdb'\u001b[0m\u001b[0;34m)\u001b[0m\u001b[0;34m.\u001b[0m\u001b[0massign\u001b[0m\u001b[0;34m(\u001b[0m\u001b[0mwrite\u001b[0m\u001b[0;34m=\u001b[0m\u001b[0;32mTrue\u001b[0m\u001b[0;34m,\u001b[0m \u001b[0moutfn\u001b[0m \u001b[0;34m=\u001b[0m \u001b[0mppdb2\u001b[0m\u001b[0;34m)\u001b[0m\u001b[0;34m\u001b[0m\u001b[0;34m\u001b[0m\u001b[0m\n\u001b[0m\u001b[1;32m     70\u001b[0m     \u001b[0mlidx\u001b[0m\u001b[0;34m,\u001b[0m \u001b[0mlpharm\u001b[0m \u001b[0;34m=\u001b[0m \u001b[0mpharma\u001b[0m\u001b[0;34m(\u001b[0m\u001b[0;34m'l.pdb'\u001b[0m\u001b[0;34m)\u001b[0m\u001b[0;34m.\u001b[0m\u001b[0massign\u001b[0m\u001b[0;34m(\u001b[0m\u001b[0mwrite\u001b[0m\u001b[0;34m=\u001b[0m\u001b[0;32mTrue\u001b[0m\u001b[0;34m,\u001b[0m \u001b[0moutfn\u001b[0m \u001b[0;34m=\u001b[0m \u001b[0mlpdb2\u001b[0m\u001b[0;34m)\u001b[0m\u001b[0;34m\u001b[0m\u001b[0;34m\u001b[0m\u001b[0m\n\u001b[1;32m     71\u001b[0m \u001b[0;34m\u001b[0m\u001b[0m\n",
      "\u001b[0;32m~/anaconda3/lib/python3.7/site-packages/DXGB-0.1.0-py3.7.egg/DXGB/pharma.py\u001b[0m in \u001b[0;36massign\u001b[0;34m(self, write, outfn)\u001b[0m\n\u001b[1;32m     55\u001b[0m \u001b[0;34m\u001b[0m\u001b[0m\n\u001b[1;32m     56\u001b[0m         \u001b[0;31m# supress the logging information\u001b[0m\u001b[0;34m\u001b[0m\u001b[0;34m\u001b[0m\u001b[0;34m\u001b[0m\u001b[0m\n\u001b[0;32m---> 57\u001b[0;31m         \u001b[0mpybel\u001b[0m\u001b[0;34m.\u001b[0m\u001b[0mob\u001b[0m\u001b[0;34m.\u001b[0m\u001b[0mobErrorLog\u001b[0m\u001b[0;34m.\u001b[0m\u001b[0mStopLogging\u001b[0m\u001b[0;34m(\u001b[0m\u001b[0;34m)\u001b[0m\u001b[0;34m\u001b[0m\u001b[0;34m\u001b[0m\u001b[0m\n\u001b[0m\u001b[1;32m     58\u001b[0m \u001b[0;34m\u001b[0m\u001b[0m\n\u001b[1;32m     59\u001b[0m         \u001b[0;31m# table of convert OB internal atom type to Sybyl\u001b[0m\u001b[0;34m\u001b[0m\u001b[0;34m\u001b[0m\u001b[0;34m\u001b[0m\u001b[0m\n",
      "\u001b[0;31mAttributeError\u001b[0m: module 'pybel' has no attribute 'ob'"
     ]
    }
   ],
   "source": [
    "get_DXGB(model, modeldir, datadir, pdbid, outfile, runfeatures, water, opt, rewrite, average=True, featuretype='all', runrf=False, runscore=True)"
   ]
  },
  {
   "cell_type": "markdown",
   "metadata": {},
   "source": [
    "Two slowest step in scoreIt takes some time to get receptor with water molecules. However, for same protein, receptor water molecules are only needed to be generated once, and you can directly copy and past this structure, and use rewrite=False to omit this structure generation process. \n"
   ]
  }
 ],
 "metadata": {
  "kernelspec": {
   "display_name": "Python 3",
   "language": "python",
   "name": "python3"
  },
  "language_info": {
   "codemirror_mode": {
    "name": "ipython",
    "version": 3
   },
   "file_extension": ".py",
   "mimetype": "text/x-python",
   "name": "python",
   "nbconvert_exporter": "python",
   "pygments_lexer": "ipython3",
   "version": "3.7.3"
  },
  "toc": {
   "colors": {
    "hover_highlight": "#DAA520",
    "navigate_num": "#000000",
    "navigate_text": "#333333",
    "running_highlight": "#FF0000",
    "selected_highlight": "#FFD700",
    "sidebar_border": "#EEEEEE",
    "wrapper_background": "#FFFFFF"
   },
   "moveMenuLeft": true,
   "nav_menu": {
    "height": "12px",
    "width": "252px"
   },
   "navigate_menu": true,
   "number_sections": true,
   "sideBar": true,
   "skip_h1_title": false,
   "threshold": 4,
   "toc_cell": false,
   "toc_section_display": "block",
   "toc_window_display": true,
   "widenNotebook": false
  }
 },
 "nbformat": 4,
 "nbformat_minor": 2
}
