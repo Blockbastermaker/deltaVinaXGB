{
 "cells": [
  {
   "cell_type": "code",
   "execution_count": 1,
   "metadata": {
    "ExecuteTime": {
     "end_time": "2019-12-06T00:35:55.746540Z",
     "start_time": "2019-12-06T00:35:54.736718Z"
    }
   },
   "outputs": [],
   "source": [
    "import os\n",
    "import DXGB\n",
    "from DXGB.get_DXGB import get_DXGB"
   ]
  },
  {
   "cell_type": "markdown",
   "metadata": {},
   "source": [
    "get_DXGB is the major function for DXGB, and it provides many options"
   ]
  },
  {
   "cell_type": "code",
   "execution_count": 2,
   "metadata": {
    "ExecuteTime": {
     "end_time": "2019-12-06T00:35:57.140757Z",
     "start_time": "2019-12-06T00:35:57.136890Z"
    }
   },
   "outputs": [
    {
     "name": "stdout",
     "output_type": "stream",
     "text": [
      "Help on function get_DXGB in module DXGB.get_DXGB:\n",
      "\n",
      "get_DXGB(model, modeldir, datadir, pdbid, outfile, runfeatures, water, opt, rewrite, average=True, modelidx='1', featuretype='all', runrf=False, runscore=True)\n",
      "    Get deltaVinaXGB all features and score\n",
      "    \n",
      "    Parameters\n",
      "    ----------\n",
      "    model : str\n",
      "        model type, DXGB is the one for our previous trained deltaVinaXGB.\n",
      "    modeldir : str\n",
      "        directory for models, the previous trained models should be in the modeldir/model.\n",
      "    datadir : str\n",
      "        directory for data(input structures or features), and all output files.\n",
      "    pdbid : str\n",
      "        unique index for input data, can be pdb id, or any other customrized index.\n",
      "    outfile : str\n",
      "        output score file name (format is csv)\n",
      "    runfeatures : bool\n",
      "        whether to calculate features.\n",
      "    water : str\n",
      "        water type, can be:\n",
      "        \"rbw\" --> all types of water, \n",
      "        \"rw\" --> only receptor water, \n",
      "        \"bw\" --> only bridging water.\n",
      "    opt : str\n",
      "        optimization type, can be:\n",
      "        \"rbwo\" --> all types of optimization, \n",
      "        \"rwo\" --> only optimizaion with receptor water,\n",
      "        \"bwo\" --> only optimization with bridging water, \n",
      "        \"o\" --> optimization with no water.\n",
      "    rewrite : bool\n",
      "        whether to rewrite protein with water stucture, optimized ligand structure, ligand conformation generation results.\n",
      "    average : bool\n",
      "        whether to use ensemble model results, defaults to True.\n",
      "    modelidx : str\n",
      "        requires when average=False, used to define which model will be used to predict score, defaults to \"1\".\n",
      "    featuretype : str\n",
      "        requires when runfeatures=True, used to define which features will be calculated, defaults to \"all\", can be:\n",
      "        \"all\" --> calculate all features,\n",
      "        \"Vina\" --> calculate Vina58, \n",
      "        \"SASA\" --> calculate SASA, \n",
      "        \"BW\" --> calculate bridging water features, \n",
      "        \"Ion\" --> calculate ion features, \n",
      "        \"dE\" --> calculate ligand stability features.\n",
      "    runrf : bool\n",
      "        whether to calculate deltaVinaRF score, defaults to False.\n",
      "    runscore:bool\n",
      "        whether to calculate score, defaults to True. If False and runfeatures=True, only performes feature calculation.\n",
      "        \n",
      "    Return\n",
      "    ----------\n",
      "    output score will be saved in outfile, together with all other calculated features will be saved in datadir\n",
      "\n"
     ]
    }
   ],
   "source": [
    "help(get_DXGB)"
   ]
  },
  {
   "cell_type": "markdown",
   "metadata": {},
   "source": [
    "### Calculate Score for 2al5"
   ]
  },
  {
   "cell_type": "markdown",
   "metadata": {},
   "source": [
    "Our model has been saved in *modeldir/model/*. <br>\n",
    "If you have other trained model, you can also save it in *modeldir/youmodeltag*, and use that model to predict score. In that case, make sure your Input.csv (or Input_min/min_RW/min_BW.csv) has right features in right order"
   ]
  },
  {
   "cell_type": "code",
   "execution_count": 3,
   "metadata": {
    "ExecuteTime": {
     "end_time": "2019-12-06T00:35:59.195362Z",
     "start_time": "2019-12-06T00:35:59.191617Z"
    }
   },
   "outputs": [],
   "source": [
    "model = \"DXGB\" ### tag for our deltaVinaXGB model\n",
    "modeldir = \"/Users/jianinglu1/Documents/deltaVinaXGB/model\" ### absolute model dir \n",
    "datadir = \"/Users/jianinglu1/Documents/deltaVinaXGB/Test_2al5\" ### data dir\n",
    "pdbid = \"2al5\" ### input index, can be other type\n",
    "outfile = \"score.csv\" ### output file name\n",
    "runfeatures = True ### we want to calculate features\n",
    "water = \"rbw\" ### consider both receptor water and bridging water \n",
    "opt = \"rbwo\" ### optimize structures in all situations\n",
    "rewrite = False ### we don't want overwrite previous generated structures and conformations\n",
    "average=True ### we use ensemble models (10 models)\n",
    "featuretype=\"all\" ### since we don't have any features, we want to calculate all features\n",
    "runrf=True ### except Vina and deltaVinaXGB, we also want to calcualate deltaVinaRF\n",
    "runscore=True ### we want to calculate scores"
   ]
  },
  {
   "cell_type": "code",
   "execution_count": 4,
   "metadata": {
    "ExecuteTime": {
     "end_time": "2019-12-06T00:41:13.600075Z",
     "start_time": "2019-12-06T00:36:00.300368Z"
    }
   },
   "outputs": [
    {
     "name": "stdout",
     "output_type": "stream",
     "text": [
      "pdb index: 2al5\n",
      "file directory: /Users/jianinglu1/Documents/deltaVinaXGB/Test_2al5\n",
      "feature will be calculated:all\n",
      "output filename : score.csv\n",
      "Ligand for conformation stability:2al5_ligand.mol2\n",
      "Ligand for Vina, SASA, BA, ION:2al5_ligand_rename.pdb\n",
      "Protein without water molecules:2al5_protein.pdb\n",
      "Protein with water molecules:2al5_protein_all.pdb\n",
      "Finish Input Preparation\n",
      "Protein Water: calculate both RW and BW\n",
      "RW satisfiles distance requirement:572\n",
      "563 RW have been saved in 2al5_protein_RW.pdb\n",
      "BW satisfiles structural requirement:3\n",
      "3 BW have been saved in 2al5_protein_BW.pdb\n",
      "Finish generate BW\n",
      "Consideration of Water Effect\n",
      "Finish Optimization\n",
      "C\n",
      "Finish Vina\n",
      "Finish SASA\n",
      "No Ion\n",
      "Finish Ion\n",
      "Co\n",
      "Finish Vina\n",
      "Finish SASA\n",
      "No Ion\n",
      "Finish Ion\n",
      "Crwo\n",
      "BW satisfiles structural requirement:3\n",
      "3 BW have been saved in 2al5_protein_BW.pdb\n",
      "Finish Bridging Water Feature Calculation\n",
      "Finish Vina\n",
      "Finish SASA\n",
      "No Ion\n",
      "Finish Ion\n",
      "Cbwo\n",
      "BW satisfiles structural requirement:3\n",
      "3 BW have been saved in 2al5_protein_BW.pdb\n",
      "Finish Bridging Water Feature Calculation\n",
      "Finish Vina\n",
      "Finish SASA\n",
      "No Ion\n",
      "Finish Ion\n",
      "Input Type:mol2\n",
      "mol has been read\n",
      "The total number of conformers before clustering: 52\n",
      "The total number of conformers after clustring: 12\n",
      "The lowest energy: 26.256817338203216\n",
      "Input Type:mol2\n",
      "Finish Feature Calculation\n",
      "1\n",
      "2\n",
      "3\n",
      "4\n",
      "5\n",
      "6\n",
      "7\n",
      "8\n",
      "9\n",
      "10\n",
      "1\n",
      "2\n",
      "3\n",
      "4\n",
      "5\n",
      "6\n",
      "7\n",
      "8\n",
      "9\n",
      "10\n",
      "1\n",
      "2\n",
      "3\n",
      "4\n",
      "5\n",
      "6\n",
      "7\n",
      "8\n",
      "9\n",
      "10\n",
      "1\n",
      "2\n",
      "3\n",
      "4\n",
      "5\n",
      "6\n",
      "7\n",
      "8\n",
      "9\n",
      "10\n"
     ]
    }
   ],
   "source": [
    "cwd = os.getcwd() ### our feature calculate will be conducted in datadir, it should be safe to memorize our initial dir\n",
    "get_DXGB(model, modeldir, datadir, pdbid, outfile, runfeatures, water, opt, rewrite, average=True, featuretype='all', runrf=False, runscore=True)"
   ]
  },
  {
   "cell_type": "markdown",
   "metadata": {},
   "source": [
    "Two slowest steps in score calculation is receptor water structure prepartion and ligand conformation generation. It might take some time to finish. However, for same protein, receptor water molecules are only needed to be generated once, and for same ligand, the ligand conformation generation is only needed to be generated onece. You can directly copy and past these structures, and use rewrite=False to omit this structure generation process in the future score prediction. "
   ]
  }
 ],
 "metadata": {
  "kernelspec": {
   "display_name": "DXGB",
   "language": "python",
   "name": "myenv"
  },
  "language_info": {
   "codemirror_mode": {
    "name": "ipython",
    "version": 3
   },
   "file_extension": ".py",
   "mimetype": "text/x-python",
   "name": "python",
   "nbconvert_exporter": "python",
   "pygments_lexer": "ipython3",
   "version": "3.7.3"
  },
  "toc": {
   "colors": {
    "hover_highlight": "#DAA520",
    "navigate_num": "#000000",
    "navigate_text": "#333333",
    "running_highlight": "#FF0000",
    "selected_highlight": "#FFD700",
    "sidebar_border": "#EEEEEE",
    "wrapper_background": "#FFFFFF"
   },
   "moveMenuLeft": true,
   "nav_menu": {
    "height": "30px",
    "width": "252px"
   },
   "navigate_menu": true,
   "number_sections": true,
   "sideBar": true,
   "skip_h1_title": false,
   "threshold": 4,
   "toc_cell": false,
   "toc_section_display": "block",
   "toc_window_display": false,
   "widenNotebook": false
  }
 },
 "nbformat": 4,
 "nbformat_minor": 2
}
