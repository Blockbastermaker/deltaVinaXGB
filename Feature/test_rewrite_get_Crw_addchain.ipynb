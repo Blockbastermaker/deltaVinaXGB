{
 "cells": [
  {
   "cell_type": "code",
   "execution_count": 1,
   "metadata": {},
   "outputs": [],
   "source": [
    "import numpy as np\n",
    "import get_pdbinfo\n"
   ]
  },
  {
   "cell_type": "code",
   "execution_count": 14,
   "metadata": {},
   "outputs": [],
   "source": [
    "\n",
    "\n",
    "def get_RW(fn, inpro):\n",
    "    '''\n",
    "    Select the HOH in [2.0, 3.5] of protein\n",
    "\n",
    "    '''\n",
    "\n",
    "    outfile = open(\"test/RW_info.txt\",\"w\")\n",
    "\n",
    "    pro = get_pdbinfo.pdbinfo(fn,file = inpro)\n",
    "    pro_atoms = pro.getPolarAtoms()\n",
    "    protein,waters = get_pdbinfo.pdbinfo(fn, lines = pro_atoms).getProteinWaters()\n",
    "    waters_coord = get_pdbinfo.pdbinfo(fn,lines = waters).getCoords()\n",
    "    protein_coord = get_pdbinfo.pdbinfo(fn,lines = protein).getCoords()\n",
    "    ### calculate distance ###\n",
    "    waters_coord = np.expand_dims(waters_coord, 1)\n",
    "    protein_coord = np.expand_dims(protein_coord,0)\n",
    "    distance = np.linalg.norm(waters_coord - protein_coord, axis = 2)\n",
    "    distance_min = np.min(distance, axis = 1)\n",
    "    rw_index = []\n",
    "    for idx, i in enumerate(distance_min):\n",
    "        if i >= 2.0 and i <= 3.5:\n",
    "            rw_index.append(idx)\n",
    "    for i in rw_index:\n",
    "        rw_line = waters[i]\n",
    "        rw_distance = distance[i]\n",
    "        rw_chain = get_pdbinfo.chid(rw_line)\n",
    "        if rw_chain != \" \":\n",
    "            rw_name = str(int(get_pdbinfo.resi(rw_line))) + \".\" + get_pdbinfo.chid(rw_line)\n",
    "        else:\n",
    "            rw_name = str(int(get_pdbinfo.resi(rw_line)))\n",
    "            \n",
    "        for idx, d in enumerate(rw_distance):\n",
    "            if d <= 3.5 and d >= 2.0:\n",
    "                pro_idx = idx\n",
    "                pro_line = protein[idx]\n",
    "                pro_chain = get_pdbinfo.chid(pro_line)\n",
    "                pro_name = get_pdbinfo.resn(pro_line)\n",
    "                if pro_chain != \" \":\n",
    "                    pro_idx = str(int(get_pdbinfo.resi(pro_line))) + \".\" + pro_chain \n",
    "                else:\n",
    "                    pro_idx = str(int(get_pdbinfo.resi(pro_line)))\n",
    "                pro_aname = get_pdbinfo.atmn(pro_line).strip()\n",
    "                outline = fn + \",\" + pro_name + \",\" + pro_idx + \",\" + pro_aname + \",\" + rw_name + \",\" + str(round(d,2)) + \"\\n\"\n",
    "                outfile.write(outline)\n",
    "    outfile.close()\n",
    "    return None"
   ]
  },
  {
   "cell_type": "code",
   "execution_count": 15,
   "metadata": {},
   "outputs": [
    {
     "name": "stdout",
     "output_type": "stream",
     "text": [
      "2274\n",
      "80\n",
      "[13.283 -4.868 29.215]\n",
      "[ 20.522 -17.258  15.117]\n",
      "(80, 1, 3)\n",
      "(1, 2274, 3)\n",
      "20.116382005718624\n"
     ]
    }
   ],
   "source": [
    "fn = \"3c2f\"\n",
    "inpro = \"test/3c2f_protein_all_SF_type2.pdb\"\n",
    "get_RW(fn, inpro)"
   ]
  },
  {
   "cell_type": "code",
   "execution_count": 42,
   "metadata": {},
   "outputs": [
    {
     "data": {
      "text/plain": [
       "22.092899809667358"
      ]
     },
     "execution_count": 42,
     "metadata": {},
     "output_type": "execute_result"
    }
   ],
   "source": [
    "np.sqrt((13.283-19.833)**2 + (-4.868+18.887)**2 + (29.215-13.446)**2)"
   ]
  },
  {
   "cell_type": "code",
   "execution_count": 20,
   "metadata": {},
   "outputs": [],
   "source": [
    "def get_angle(a,b,c):\n",
    "    ba = a - b\n",
    "    bc = c - b\n",
    "    cosine_angle = np.dot(ba, bc) / (np.linalg.norm(ba) * np.linalg.norm(bc))\n",
    "    angle = np.degrees(np.arccos(cosine_angle))\n",
    "    return angle"
   ]
  },
  {
   "cell_type": "code",
   "execution_count": 62,
   "metadata": {},
   "outputs": [],
   "source": [
    "def get_BW(fn,water,lig):\n",
    "    outfile = open(\"test/BW_info.txt\",\"w\")\n",
    "\n",
    "    lig = get_pdbinfo.pdbinfo(fn,file = lig)\n",
    "    lig = lig.getPolarAtoms()\n",
    "    pro = get_pdbinfo.pdbinfo(fn,file = water)\n",
    "    pro_atoms = pro.getPolarAtoms()\n",
    "    protein,waters = get_pdbinfo.pdbinfo(fn, lines = pro_atoms).getProteinWaters()\n",
    "\n",
    "    waters_coord_init = get_pdbinfo.pdbinfo(fn,lines = waters).getCoords()\n",
    "    protein_coord_init = get_pdbinfo.pdbinfo(fn,lines = protein).getCoords()\n",
    "    ligand_coord_init = get_pdbinfo.pdbinfo(fn,lines=lig).getCoords()\n",
    "\n",
    "    ### select the HOH in 3.5 of ligand/protein ###\n",
    "    waters_coord = np.expand_dims(waters_coord_init, 1)\n",
    "    protein_coord = np.expand_dims(protein_coord_init,0)\n",
    "    ligand_coord = np.expand_dims(ligand_coord_init,0)\n",
    "\n",
    "    distance_pw = np.linalg.norm(waters_coord - protein_coord, axis = 2)\n",
    "    distance_lw = np.linalg.norm(waters_coord - ligand_coord, axis = 2)\n",
    "    distance_pw_min = np.min(distance_pw, axis = 1)\n",
    "    distance_lw_min = np.min(distance_lw, axis = 1)\n",
    "\n",
    "    bw_index = []\n",
    "    for idx, (i1,i2) in enumerate(zip(distance_pw_min,distance_lw_min)):\n",
    "        if i1 >= 2.0 and i1 <= 3.5 and i2 >= 2.0 and i2 <= 3.5:\n",
    "            bw_index.append(idx)\n",
    "    \n",
    "    for idx in bw_index:\n",
    "        bw_coord = waters_coord_init[idx]\n",
    "        bw_distance_p = distance_pw[idx]\n",
    "        bw_distance_l = distance_lw[idx]\n",
    "        for num1, i1 in enumerate(bw_distance_p):\n",
    "            if i1 >= 2.0 and i1 <= 3.5:\n",
    "                p_coord = protein_coord_init[num1]\n",
    "                for num2, i2 in enumerate(bw_distance_l):\n",
    "                    if i2 >= 2.0 and i2 <= 3.5:\n",
    "                        l_coord = ligand_coord_init[num2]\n",
    "                        print(l_coord)\n",
    "                        print(bw_coord)\n",
    "                        angle = get_angle(p_coord, bw_coord, l_coord)\n",
    "                        if angle >= 60:\n",
    "                            print(angle)\n",
    "                            bw_line = waters[idx]\n",
    "                            bw_chain = get_pdbinfo.chid(bw_line)\n",
    "                            if bw_chain != \" \":\n",
    "                                bw_name = str(int(get_pdbinfo.resi(bw_line))) + \".\" + get_pdbinfo.chid(bw_line)\n",
    "                            else:\n",
    "                                bw_name = str(int(get_pdbinfo.resi(bw_line)))\n",
    "                            pro_line = protein[num1]\n",
    "                            lig_line = lig[num2]\n",
    "                            pro_chain = get_pdbinfo.chid(pro_line)\n",
    "                            pro_name = get_pdbinfo.resn(pro_line)\n",
    "                            if pro_chain != \" \":\n",
    "                                pro_idx = str(int(get_pdbinfo.resi(pro_line))) + \".\" + pro_chain \n",
    "                            else:\n",
    "                                pro_idx = str(int(get_pdbinfo.resi(pro_line)))\n",
    "                            pro_aname = get_pdbinfo.atmn(pro_line).strip()\n",
    "                            lig_name = get_pdbinfo.atmn(lig_line).strip()\n",
    "                            outline = fn + \",\" + pro_name + \",\" + pro_idx + \",\" + pro_aname + \",\" + bw_name + \",\" + lig_name + \",\" + str(round(i1,2)) + \",\" + str(round(i2,2)) + \",\" + str(int(round(angle))) + \"\\n\"\n",
    "                            outfile.write(outline)\n",
    "    outfile.close()"
   ]
  },
  {
   "cell_type": "code",
   "execution_count": 63,
   "metadata": {},
   "outputs": [
    {
     "name": "stdout",
     "output_type": "stream",
     "text": [
      "[ 27.464 -17.006  44.905]\n",
      "[ 30.117 -19.127  45.719]\n",
      "80.61192497936587\n",
      "[ 27.464 -17.006  44.905]\n",
      "[ 30.117 -19.127  45.719]\n",
      "117.31404695998768\n",
      "[ 27.464 -17.006  44.905]\n",
      "[ 30.117 -19.127  45.719]\n",
      "65.32549527156894\n",
      "[ 27.464 -17.006  44.905]\n",
      "[ 30.117 -19.127  45.719]\n",
      "106.83641041134564\n"
     ]
    }
   ],
   "source": [
    "fn = \"3c2f\"\n",
    "inpro = \"test/3c2f_protein_all.pdb\"\n",
    "inlig = \"test/3c2f_ligand.pdb\"\n",
    "get_BW(fn,inpro,inlig)"
   ]
  },
  {
   "cell_type": "code",
   "execution_count": 55,
   "metadata": {},
   "outputs": [
    {
     "data": {
      "text/plain": [
       "3.492799163994404"
      ]
     },
     "execution_count": 55,
     "metadata": {},
     "output_type": "execute_result"
    }
   ],
   "source": [
    "np.sqrt((27.464-30.117)**2 + (-17.006 +19.127)**2 + (44.905-45.719)**2)"
   ]
  },
  {
   "cell_type": "code",
   "execution_count": 15,
   "metadata": {},
   "outputs": [],
   "source": [
    "import sys\n",
    "import os\n",
    "import rdkit\n",
    "from rdkit import Chem\n",
    "from software_path import path_obabel\n",
    "import get_pdbinfo\n",
    "obabel = path_obabel()\n",
    "def get_input(datadir, fn):\n",
    "    olddir = os.getcwd()\n",
    "    os.chdir(datadir)\n",
    "    ### get ligand ###\n",
    "    ### input should be provided as either of sdf file (best choice) or mol2 file ###\n",
    "    inlig1 = fn + \"_ligand.mol2\"\n",
    "    inlig2 = fn + \"_ligand.sdf\"\n",
    "    inlig3 = fn + \"_ligand.pdb\"\n",
    "\n",
    "    ### check ligand input file ###\n",
    "    if inlig2 not in os.listdir(\".\"):\n",
    "        inlig = inlig1\n",
    "        mol = Chem.MolFromMol2File(inlig,removeHs = False)\n",
    "        if mol == None:\n",
    "            error_massage = \"Error:input ligand (mol2) should be checked\\ntry use sdf as input format(make sure the atom type, bond connection are right\"\n",
    "            sys.exit(error_massage)\n",
    "        else:\n",
    "            inlig_rdkit = inlig1\n",
    "    else:\n",
    "        inlig = inlig2\n",
    "        mol = Chem.SDMolSupplier(inlig,removeHs = False)[0]\n",
    "        if mol == None:\n",
    "            sys.exit(\"Error:input ligand (sdf) should be checked\")\n",
    "        else:\n",
    "            inlig_rdkit = inlig2\n",
    "\n",
    "    if inlig3 not in os.listdir(\".\"):\n",
    "        inlig = inlig_rdkit\n",
    "        infmt = inlig.split(\".\")[-1]\n",
    "        outlig = inlig3\n",
    "        cmd = obabel + \" -i\" + infmt + \" \" +  inlig + \" -opdb -O \" + outlig\n",
    "        os.system(cmd)    \n",
    "\n",
    "    ### get protein ###\n",
    "    ### at least one protein structure should be provided with all waters ###\n",
    "    inpro1 = fn + \"_protein.pdb\"\n",
    "    inpro2 = fn + \"_protein_all.pdb\"\n",
    "\n",
    "    if inpro1 not in os.listdir(\".\"):\n",
    "        inpro = inpro2\n",
    "        outpro = open(inpro1,\"w\")\n",
    "        protein_lines = get_pdbinfo.pdbinfo(fn, file = inpro).getProteinWaters()[0]\n",
    "        \n",
    "        outpro.write(\"\".join(protein_lines))\n",
    "        outpro.close()\n",
    "\n",
    "    ### check input structures ###\n",
    "    if os.path.isfile(inlig_rdkit) and os.stat(inlig_rdkit).st_size != 0:\n",
    "        print(\"Ligand for conformation stability:\" + inlig_rdkit)\n",
    "    else:\n",
    "        sys.exit(\"Error: rdkit input\")\n",
    "    if os.path.isfile(inlig3) and os.stat(inlig3).st_size != 0:\n",
    "        print(\"Ligand for Vina, SASA, BA, ION:\" + inlig3)  \n",
    "    else:\n",
    "        sys.exit(\"Error: ligand input (pdb)\")\n",
    "    if os.path.isfile(inpro1) and os.stat(inpro1).st_size != 0:\n",
    "        print(\"Protein without water molecules:\" + inpro1)\n",
    "    else:\n",
    "        sys.exit(\"Error: protein input without water\")\n",
    "    if os.path.isfile(inpro2) and os.stat(inpro2).st_size != 0:\n",
    "        print(\"Protein with water molecules:\" + inpro2)\n",
    "    else:\n",
    "        sys.exit(\"Error: protein input with water\")\n",
    "    \n",
    "    os.chdir(olddir)\n",
    "\n",
    "    return inlig_rdkit, inlig3, inpro1, inpro2"
   ]
  },
  {
   "cell_type": "code",
   "execution_count": 18,
   "metadata": {},
   "outputs": [
    {
     "name": "stdout",
     "output_type": "stream",
     "text": [
      "Ligand for conformation stability:4q90_ligand.mol2\n",
      "Ligand for Vina, SASA, BA, ION:4q90_ligand.pdb\n",
      "Protein without water molecules:4q90_protein.pdb\n",
      "Protein with water molecules:4q90_protein_all.pdb\n"
     ]
    }
   ],
   "source": [
    "datadir = \"/Users/jianinglu1/Documents/script/deltaXGB_linux/Feature/test/\"\n",
    "fn = \"4q90\"\n",
    "inlig_rdkit, inlig_pdb, inpro1, inpro2 = get_input(datadir, fn)"
   ]
  }
 ],
 "metadata": {
  "kernelspec": {
   "display_name": "Python 3",
   "language": "python",
   "name": "python3"
  },
  "language_info": {
   "codemirror_mode": {
    "name": "ipython",
    "version": 3
   },
   "file_extension": ".py",
   "mimetype": "text/x-python",
   "name": "python",
   "nbconvert_exporter": "python",
   "pygments_lexer": "ipython3",
   "version": "3.6.5"
  }
 },
 "nbformat": 4,
 "nbformat_minor": 2
}
